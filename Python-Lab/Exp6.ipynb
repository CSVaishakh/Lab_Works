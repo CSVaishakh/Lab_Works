{
 "cells": [
  {
   "cell_type": "code",
   "execution_count": 1,
   "metadata": {},
   "outputs": [
    {
     "name": "stdout",
     "output_type": "stream",
     "text": [
      "P(X=6) = 0.0716\n"
     ]
    }
   ],
   "source": [
    "from scipy import stats as st\n",
    "mean = 3.4\n",
    "k=6\n",
    "p = st.poisson.pmf(k,mean)\n",
    "print(f\"P(X=6) = {p:.4f}\")"
   ]
  },
  {
   "cell_type": "code",
   "execution_count": 11,
   "metadata": {},
   "outputs": [
    {
     "name": "stdout",
     "output_type": "stream",
     "text": [
      "chi square value : 8.00607\n",
      "P Value : 0.04589\n",
      "Gender and Education levels are dependant at 5% level of significance\n"
     ]
    }
   ],
   "source": [
    "import numpy as np\n",
    "from scipy.stats import chi2\n",
    "obs=np.array([[60,54,46,41],[40,44,53,57]])\n",
    "r=np.sum(obs,axis=1)\n",
    "c=np.sum(obs,axis=0)\n",
    "total = 395\n",
    "exp=np.outer(r,c)/total\n",
    "chisq=((obs-exp)**2/exp).sum()\n",
    "df=(obs.shape[0]-1)*(obs.shape[1]-1)\n",
    "p=1-chi2.cdf(chisq,df)\n",
    "print(f\"chi square value : {chisq:.5f}\\nP Value : {p:.5f}\")\n",
    "alpha = 0.05\n",
    "if(p<alpha):\n",
    "    print(\"Gender and Education levels are dependant at 5% level of significance\")\n",
    "else:\n",
    "    print(\"Gender and Education levels are independant\")"
   ]
  },
  {
   "cell_type": "code",
   "execution_count": 1,
   "metadata": {},
   "outputs": [
    {
     "name": "stdout",
     "output_type": "stream",
     "text": [
      "15.91992077715905   40.15835871715796\n"
     ]
    }
   ],
   "source": [
    "import numpy as np\n",
    "\n",
    "cls_int = [(0,10),(10,20),(20,30),(30,40),(40,50),(50,60),(60,70),(70,80)]\n",
    "freq=[5,10,20,40,30,20,10,5]\n",
    "midpts = [(cls[0]+cls[1])/2 for cls in cls_int]\n",
    "weighted_sum=sum(f*m for f,m in zip(freq,midpts))\n",
    "total_freq=sum(freq)\n",
    "mean=weighted_sum/total_freq\n",
    "sq_deviations=[(m-mean)**2 for m in midpts]\n",
    "variance=sum(f*sd for f,sd in zip(freq,sq_deviations))/total_freq\n",
    "sd=np.sqrt(variance)\n",
    "cv=(sd/mean)*100\n",
    "\n",
    "print(sd,\" \",cv)"
   ]
  },
  {
   "cell_type": "code",
   "execution_count": null,
   "metadata": {},
   "outputs": [],
   "source": []
  }
 ],
 "metadata": {
  "kernelspec": {
   "display_name": ".venv",
   "language": "python",
   "name": "python3"
  },
  "language_info": {
   "codemirror_mode": {
    "name": "ipython",
    "version": 3
   },
   "file_extension": ".py",
   "mimetype": "text/x-python",
   "name": "python",
   "nbconvert_exporter": "python",
   "pygments_lexer": "ipython3",
   "version": "3.10.16"
  }
 },
 "nbformat": 4,
 "nbformat_minor": 2
}
