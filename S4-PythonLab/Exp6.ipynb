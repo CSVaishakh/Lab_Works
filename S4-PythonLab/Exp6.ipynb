{
 "cells": [
  {
   "cell_type": "code",
   "execution_count": 1,
   "metadata": {},
   "outputs": [
    {
     "name": "stdout",
     "output_type": "stream",
     "text": [
      "P(X=6) = 0.0716\n"
     ]
    }
   ],
   "source": [
    "from scipy import stats as st\n",
    "mean = 3.4\n",
    "k=6\n",
    "p = st.poisson.pmf(k,mean)\n",
    "print(f\"P(X=6) = {p:.4f}\")"
   ]
  },
  {
   "cell_type": "code",
   "execution_count": null,
   "metadata": {},
   "outputs": [],
   "source": [
    "import numpy as np\n",
    "from scipy import chi2\n",
    "\n",
    "obs=np.array([60,54,46,41],[40,44,53,57])\n",
    "total = 395\n",
    "r=np.sum(obs,axis=1)\n",
    "c=np.sum(obs,axis=0)\n",
    "\n",
    "exp=np.outer(r,c)/total\n",
    "chisq=((obs-exp)**2/exp).sum()\n",
    "df=obs.shape([0]-1)*obs.shape([1]-1)\n",
    "p=1-chi2.cdf(chisq,df)\n",
    "print(f\"chi square value : {chisq}\\nP Value : {p}\")\n",
    "alpha = 0.05\n",
    "if(p>alpha):\n",
    "    print(\"\")\n",
    "\n"
   ]
  }
 ],
 "metadata": {
  "kernelspec": {
   "display_name": ".venv",
   "language": "python",
   "name": "python3"
  },
  "language_info": {
   "codemirror_mode": {
    "name": "ipython",
    "version": 3
   },
   "file_extension": ".py",
   "mimetype": "text/x-python",
   "name": "python",
   "nbconvert_exporter": "python",
   "pygments_lexer": "ipython3",
   "version": "3.10.16"
  }
 },
 "nbformat": 4,
 "nbformat_minor": 2
}
