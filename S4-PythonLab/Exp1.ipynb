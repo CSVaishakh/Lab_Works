{
 "cells": [
  {
   "cell_type": "code",
   "execution_count": null,
   "id": "90b08294-b25d-41bc-8161-13f19a57b1fd",
   "metadata": {},
   "outputs": [],
   "source": [
    "print(\"Hello World\")"
   ]
  },
  {
   "cell_type": "code",
   "execution_count": null,
   "id": "0fae4dd0-fa22-4c64-87dd-f25ebba884e7",
   "metadata": {},
   "outputs": [],
   "source": [
    "num1 = int(input(\"Enter the first number : \"))\n",
    "num2 = int(input(\"Enter the second number : \"))\n",
    "sum = num1+num2\n",
    "print(sum)"
   ]
  },
  {
   "cell_type": "code",
   "execution_count": null,
   "id": "f2d2c372",
   "metadata": {},
   "outputs": [],
   "source": [
    "b = int(input(\"Enter the baselength of the triangle : \"))\n",
    "h = int(input(\"Enter the height of the triangle : \"))\n",
    "area = (1/2)*b*h\n",
    "print(\"Area : \",area)"
   ]
  },
  {
   "cell_type": "code",
   "execution_count": null,
   "id": "2eae2e42",
   "metadata": {},
   "outputs": [],
   "source": [
    "num1 = int(input(\"Enter the first term : \"))\n",
    "num2 = int(input(\"Enter the second term : \"))\n",
    "print(\"Before swapping : \",num1,\" \",num2)\n",
    "temp = num1\n",
    "num1 = num2\n",
    "num2 = temp\n",
    "print(\"After swapping : \",num1,\" \",num2)"
   ]
  },
  {
   "cell_type": "code",
   "execution_count": null,
   "id": "f49047d4",
   "metadata": {},
   "outputs": [],
   "source": [
    "num1 = int(input(\"Enter the first numer : \"))\n",
    "num2 = int(input(\"Enter the second number : \"))\n",
    "num3 = int(input(\"Enter the third number : \"))\n",
    "largest = 0\n",
    "if num1 >= num2 and num2 >= num3:\n",
    "    largest = num1\n",
    "elif num2 >= num1 and num2 >=num3:\n",
    "    largest = num2\n",
    "else:\n",
    "    largest = num2\n",
    "print(\"the largest of the three is : \",largest)"
   ]
  },
  {
   "cell_type": "code",
   "execution_count": null,
   "id": "42e88104",
   "metadata": {},
   "outputs": [],
   "source": [
    "num =int(input(\"Enter the number whouse multiplicatiojn table is to be generated : \"))\n",
    "limit = int(input(\"Enter the number of terms in the table : \"))\n",
    "for i in range(1,limit+1):\n",
    "    print(num,\" * \",i,\" = \",num*i)"
   ]
  },
  {
   "cell_type": "code",
   "execution_count": null,
   "id": "6e49caf0",
   "metadata": {},
   "outputs": [],
   "source": [
    "s = input(\"Enter the sentance : \")\n",
    "w1 = input(\"Enter the word to be replaced : \")\n",
    "w2 = input(\"Enter the replacement word : \")\n",
    "new_s = s.replace(w1,w2)\n",
    "print(\"Orginal sentance : \",s)\n",
    "print(\"Modified sentace : \",new_s)"
   ]
  }
 ],
 "metadata": {
  "kernelspec": {
   "display_name": ".venv",
   "language": "python",
   "name": "python3"
  },
  "language_info": {
   "codemirror_mode": {
    "name": "ipython",
    "version": 3
   },
   "file_extension": ".py",
   "mimetype": "text/x-python",
   "name": "python",
   "nbconvert_exporter": "python",
   "pygments_lexer": "ipython3",
   "version": "3.10.16"
  }
 },
 "nbformat": 4,
 "nbformat_minor": 5
}
