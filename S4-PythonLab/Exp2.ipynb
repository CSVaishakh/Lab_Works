{
 "cells": [
  {
   "cell_type": "code",
   "execution_count": null,
   "metadata": {},
   "outputs": [],
   "source": [
    "def sort(list,size):\n",
    "    for i in range(size):\n",
    "        for j in range(size-i-1):\n",
    "            if list[j]>list[j+1]:\n",
    "                list[j],list[j+1] = list[j+1],list[j]\n",
    "    return list\n",
    "\n",
    "size = int(input(\"Enter the size of the list :\"))\n",
    "list=[]\n",
    "for i in range(size):\n",
    "    list.append(int(input(\"Enter the element : \")))\n",
    "print(sort(list,size))"
   ]
  },
  {
   "cell_type": "code",
   "execution_count": null,
   "metadata": {},
   "outputs": [],
   "source": [
    "def occourance(list,size,key):\n",
    "    count = 0\n",
    "    for i in range(size):\n",
    "        if list[i] == key:\n",
    "            count+=1\n",
    "    return count\n",
    "\n",
    "size = int(input(\"Enter the size of the list :\"))\n",
    "list=[]\n",
    "for i in range(size):\n",
    "    list.append(int(input(\"Enter the element : \")))\n",
    "key = int(input(\"Enter the element whose occurances is to be found\"))\n",
    "print(\"The count of occuraces is : \",occourance(list,size,key))"
   ]
  }
 ],
 "metadata": {
  "kernelspec": {
   "display_name": ".venv",
   "language": "python",
   "name": "python3"
  },
  "language_info": {
   "codemirror_mode": {
    "name": "ipython",
    "version": 3
   },
   "file_extension": ".py",
   "mimetype": "text/x-python",
   "name": "python",
   "nbconvert_exporter": "python",
   "pygments_lexer": "ipython3",
   "version": "3.10.16"
  }
 },
 "nbformat": 4,
 "nbformat_minor": 2
}
