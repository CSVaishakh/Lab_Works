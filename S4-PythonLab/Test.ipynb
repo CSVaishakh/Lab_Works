{
 "cells": [
  {
   "cell_type": "code",
   "execution_count": 3,
   "id": "2873b280",
   "metadata": {},
   "outputs": [
    {
     "name": "stdout",
     "output_type": "stream",
     "text": [
      "tensor([[0.6941, 0.8514, 0.0018],\n",
      "        [0.8721, 0.5487, 0.6519],\n",
      "        [0.1121, 0.4826, 0.1766],\n",
      "        [0.2864, 0.2665, 0.7706],\n",
      "        [0.5101, 0.0853, 0.2513]])\n"
     ]
    }
   ],
   "source": [
    "import torch\n",
    "x = torch.rand(5, 3)\n",
    "print(x)"
   ]
  }
 ],
 "metadata": {
  "kernelspec": {
   "display_name": ".venv",
   "language": "python",
   "name": "python3"
  },
  "language_info": {
   "codemirror_mode": {
    "name": "ipython",
    "version": 3
   },
   "file_extension": ".py",
   "mimetype": "text/x-python",
   "name": "python",
   "nbconvert_exporter": "python",
   "pygments_lexer": "ipython3",
   "version": "3.10.16"
  }
 },
 "nbformat": 4,
 "nbformat_minor": 5
}
